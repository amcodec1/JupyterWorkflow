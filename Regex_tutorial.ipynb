{
 "cells": [
  {
   "cell_type": "code",
   "execution_count": 1,
   "metadata": {
    "collapsed": true
   },
   "outputs": [],
   "source": [
    "import re\n"
   ]
  },
  {
   "cell_type": "markdown",
   "metadata": {},
   "source": [
    "# re.match(pattern, string):"
   ]
  },
  {
   "cell_type": "markdown",
   "metadata": {},
   "source": [
    "This method finds match if it occurs at start of the string. For example, calling match() on the string ‘AV Analytics AV’ and looking for a pattern ‘AV’ will match. However, if we look for only Analytics, the pattern will not match. Let’s perform it in python now."
   ]
  },
  {
   "cell_type": "code",
   "execution_count": 2,
   "metadata": {
    "collapsed": false
   },
   "outputs": [
    {
     "name": "stdout",
     "output_type": "stream",
     "text": [
      "<_sre.SRE_Match object at 0x00000000063F67E8>\n"
     ]
    }
   ],
   "source": [
    "result = re.match(r'AV', 'AV Analytics Vidhya AV')\n",
    "print result"
   ]
  },
  {
   "cell_type": "markdown",
   "metadata": {},
   "source": [
    "Above, it shows that pattern match has been found. To print the matching string we’ll use method group (It helps to return the matching string). Use “r” at the start of the pattern string, it designates a python raw string."
   ]
  },
  {
   "cell_type": "code",
   "execution_count": 3,
   "metadata": {
    "collapsed": false
   },
   "outputs": [
    {
     "name": "stdout",
     "output_type": "stream",
     "text": [
      "AV\n"
     ]
    }
   ],
   "source": [
    "print (result.group(0))"
   ]
  },
  {
   "cell_type": "markdown",
   "metadata": {},
   "source": [
    "Let’s now find ‘Analytics’ in the given string. Here we see that string is not starting with ‘AV’ so it should return no match. Let’s see what we get:"
   ]
  },
  {
   "cell_type": "code",
   "execution_count": 4,
   "metadata": {
    "collapsed": false
   },
   "outputs": [
    {
     "name": "stdout",
     "output_type": "stream",
     "text": [
      "None\n"
     ]
    }
   ],
   "source": [
    "result = re.match(r'Analytics','AV Analytics Vidhya AV')\n",
    "print result"
   ]
  },
  {
   "cell_type": "markdown",
   "metadata": {},
   "source": [
    "# re.search(pattern, string):"
   ]
  },
  {
   "cell_type": "markdown",
   "metadata": {},
   "source": [
    "It is similar to match() but it doesn’t restrict us to find matches at the beginning of the string only. Unlike previous method, here searching for pattern ‘Analytics’ will return a match."
   ]
  },
  {
   "cell_type": "code",
   "execution_count": 5,
   "metadata": {
    "collapsed": false
   },
   "outputs": [
    {
     "name": "stdout",
     "output_type": "stream",
     "text": [
      "Analytics\n"
     ]
    }
   ],
   "source": [
    "result = re.search(r'Analytics','AV Analytics Vidhya AV')\n",
    "print(result.group(0))\n",
    "\n"
   ]
  },
  {
   "cell_type": "markdown",
   "metadata": {},
   "source": [
    "Here you can see that, search() method is able to find a pattern from any position of the string but it only returns the first occurrence of the search pattern."
   ]
  },
  {
   "cell_type": "markdown",
   "metadata": {},
   "source": [
    "# re.findall (pattern, string):"
   ]
  },
  {
   "cell_type": "markdown",
   "metadata": {},
   "source": [
    "It helps to get a list of all matching patterns. It has no constraints of searching from start or end. If we will use method findall to search ‘AV’ in given string it will return both occurrence of AV. While searching a string, I would recommend you to use re.findall() always, it can work like re.search() and re.match() both."
   ]
  },
  {
   "cell_type": "code",
   "execution_count": 7,
   "metadata": {
    "collapsed": false
   },
   "outputs": [
    {
     "name": "stdout",
     "output_type": "stream",
     "text": [
      "['AV', 'AV']\n"
     ]
    }
   ],
   "source": [
    "result = re.findall(r'AV','AV Analytics Vidhya AV')\n",
    "print(result)"
   ]
  },
  {
   "cell_type": "markdown",
   "metadata": {},
   "source": [
    "# re.sub(pattern, repl, string):"
   ]
  },
  {
   "cell_type": "markdown",
   "metadata": {},
   "source": [
    "It helps to search a pattern and replace with a new sub string. If the pattern is not found, string is returned unchanged."
   ]
  },
  {
   "cell_type": "code",
   "execution_count": 8,
   "metadata": {
    "collapsed": false
   },
   "outputs": [
    {
     "name": "stdout",
     "output_type": "stream",
     "text": [
      "AV is largest Analytics community of the World\n"
     ]
    }
   ],
   "source": [
    "result = re.sub('India','the World', 'AV is largest Analytics community of India')\n",
    "print(result)"
   ]
  },
  {
   "cell_type": "markdown",
   "metadata": {},
   "source": [
    "# re.compile(pattern, repl, string):"
   ]
  },
  {
   "cell_type": "markdown",
   "metadata": {},
   "source": [
    "We can combine a regular expression pattern into what are called as pattern objects, which can be used for pattern matching. It also helps to search a pattern again without rewriting it."
   ]
  },
  {
   "cell_type": "code",
   "execution_count": 9,
   "metadata": {
    "collapsed": false
   },
   "outputs": [
    {
     "name": "stdout",
     "output_type": "stream",
     "text": [
      "['AV', 'AV']\n"
     ]
    }
   ],
   "source": [
    "pattern = re.compile('AV')\n",
    "result = pattern.findall('AV Analytics Vidhya AV')\n",
    "print(result)"
   ]
  },
  {
   "cell_type": "code",
   "execution_count": 10,
   "metadata": {
    "collapsed": false
   },
   "outputs": [
    {
     "name": "stdout",
     "output_type": "stream",
     "text": [
      "['AV']\n"
     ]
    }
   ],
   "source": [
    "result2 = pattern.findall('AV is largest Analytics community of India')\n",
    "print(result2)"
   ]
  },
  {
   "cell_type": "markdown",
   "metadata": {},
   "source": [
    "# Quick Recap of various methods:"
   ]
  },
  {
   "cell_type": "markdown",
   "metadata": {},
   "source": [
    "Till now,  we looked at various methods of regular expression using a constant pattern (fixed characters). But, what if we do not have a constant search pattern and we want to return specific set of characters (defined by a rule) from a string?  Don’t be intimidated.\n",
    "\n",
    "This can easily be solved by defining an expression with the help of pattern operators (meta  and literal characters). Let’s look at the most common pattern operators."
   ]
  },
  {
   "cell_type": "markdown",
   "metadata": {},
   "source": [
    "# What are the most commonly used operators?"
   ]
  },
  {
   "cell_type": "markdown",
   "metadata": {},
   "source": [
    "Regular expressions can specify patterns, not just fixed characters. Here are the most commonly used operators that helps to generate an expression to represent required characters in a string or file. It is commonly used in web scrapping and  text mining to extract required information.\n",
    "\n",
    "<li>Operators\tDescription\n",
    "<li>.\t Matches with any single character except newline ‘\\n’.\n",
    "<li>?\t match 0 or 1 occurrence of the pattern to its left\n",
    "<li>+\t 1 or more occurrences of the pattern to its left\n",
    "<li>*\t 0 or more occurrences of the pattern to its left\n",
    "<li>\\w\t Matches with a alphanumeric character whereas \\W (upper case W) matches non alphanumeric character.\n",
    "<li>\\d\t  Matches with digits [0-9] and /D (upper case D) matches with non-digits.\n",
    "<li>\\s\t Matches with a single white space character (space, newline, return, tab, form) and \\S (upper case S) matches any non-white space character.\n",
    "<li>\\b\t boundary between word and non-word and /B is opposite of /b\n",
    "<li>[..]\t Matches any single character in a square bracket and [^..] matches any single character not in square bracket\n",
    "<li>\\\t It is used for special meaning characters like \\. to match a period or \\+ for plus sign.\n",
    "<li>^ and $\t ^ and $ match the start or end of the string respectively\n",
    "<li>{n,m}\t Matches at least n and at most m occurrences of preceding expression if we write it as {,m} then it will return at least any minimum occurrence to max m preceding expression.\n",
    "<li>a| b\t Matches either a or b\n",
    "<li>( )\tGroups regular expressions and returns matched text\n",
    "<li>\\t, \\n, \\r\t Matches tab, newline, return"
   ]
  },
  {
   "cell_type": "markdown",
   "metadata": {},
   "source": [
    "# Some Examples of Regular Expressions"
   ]
  },
  {
   "cell_type": "markdown",
   "metadata": {},
   "source": [
    "# Problem 1: Return the first word of a given string"
   ]
  },
  {
   "cell_type": "code",
   "execution_count": 12,
   "metadata": {
    "collapsed": false
   },
   "outputs": [
    {
     "name": "stdout",
     "output_type": "stream",
     "text": [
      "['A', 'V', ' ', 'i', 's', ' ', 'l', 'a', 'r', 'g', 'e', 's', 't', ' ', 'A', 'n', 'a', 'l', 'y', 't', 'i', 'c', 's', ' ', 'c', 'o', 'm', 'm', 'u', 'n', 'i', 't', 'y', ' ', 'o', 'f', ' ', 'I', 'n', 'd', 'i', 'a']\n"
     ]
    }
   ],
   "source": [
    "import re\n",
    "#. Matches with any single character except newline ‘\\n’.\n",
    "result=re.findall(r'.','AV is largest Analytics community of India')\n",
    "print result"
   ]
  },
  {
   "cell_type": "markdown",
   "metadata": {},
   "source": [
    "Above, space is also extracted, now to avoid it use “\\w” instead of “.“."
   ]
  },
  {
   "cell_type": "code",
   "execution_count": 14,
   "metadata": {
    "collapsed": false
   },
   "outputs": [
    {
     "name": "stdout",
     "output_type": "stream",
     "text": [
      "['A', 'V', 'i', 's', 't', 'h', 'e', 'l', 'a', 'r', 'g', 'e', 's', 't', 'c', 'o', 'm', 'm', 'u', 'n', 'i', 't', 'y', 'o', 'f', 'I', 'n', 'd', 'i', 'a']\n"
     ]
    }
   ],
   "source": [
    "#\\w Matches with a alphanumeric character whereas  [a-zA-Z0-9]\n",
    "result = re.findall(r'\\w','AV is the largest community of India')\n",
    "print(result)"
   ]
  },
  {
   "cell_type": "markdown",
   "metadata": {},
   "source": [
    "Solution-2  Extract each word (using “*” or “+“)"
   ]
  },
  {
   "cell_type": "code",
   "execution_count": 15,
   "metadata": {
    "collapsed": false
   },
   "outputs": [
    {
     "name": "stdout",
     "output_type": "stream",
     "text": [
      "['AV', '', 'is', '', 'the', '', 'largest', '', 'community', '', 'of', '', 'India', '']\n"
     ]
    }
   ],
   "source": [
    "#* 0 or more occurrences of the pattern to its left\n",
    "result = re.findall(r'\\w*','AV is the largest community of India')\n",
    "print(result)"
   ]
  },
  {
   "cell_type": "code",
   "execution_count": 16,
   "metadata": {
    "collapsed": false
   },
   "outputs": [
    {
     "name": "stdout",
     "output_type": "stream",
     "text": [
      "['AV', 'is', 'the', 'largest', 'community', 'of', 'India']\n"
     ]
    }
   ],
   "source": [
    "#+ 1 or more occurrences of the pattern to its left\n",
    "result = re.findall(r'\\w+','AV is the largest community of India')\n",
    "print(result)"
   ]
  },
  {
   "cell_type": "code",
   "execution_count": 17,
   "metadata": {
    "collapsed": false
   },
   "outputs": [
    {
     "name": "stdout",
     "output_type": "stream",
     "text": [
      "['AV']\n"
     ]
    }
   ],
   "source": [
    "result = re.findall(r'^\\w+','AV is the largest community of India')\n",
    "print(result)"
   ]
  },
  {
   "cell_type": "code",
   "execution_count": 18,
   "metadata": {
    "collapsed": false
   },
   "outputs": [
    {
     "name": "stdout",
     "output_type": "stream",
     "text": [
      "['India']\n"
     ]
    }
   ],
   "source": [
    "result = re.findall(r'\\w+$','AV is the largest community of India')\n",
    "print(result)"
   ]
  },
  {
   "cell_type": "markdown",
   "metadata": {},
   "source": [
    "# Problem 2: Return the first two character of each word"
   ]
  },
  {
   "cell_type": "code",
   "execution_count": 19,
   "metadata": {
    "collapsed": false
   },
   "outputs": [
    {
     "name": "stdout",
     "output_type": "stream",
     "text": [
      "['AV', 'is', 'la', 'rg', 'es', 'An', 'al', 'yt', 'ic', 'co', 'mm', 'un', 'it', 'of', 'In', 'di']\n"
     ]
    }
   ],
   "source": [
    "result=re.findall(r'\\w\\w','AV is largest Analytics community of India')\n",
    "print result"
   ]
  },
  {
   "cell_type": "markdown",
   "metadata": {},
   "source": [
    "Extract consecutive two characters those available at start of word boundary (using “\\b“)"
   ]
  },
  {
   "cell_type": "code",
   "execution_count": 20,
   "metadata": {
    "collapsed": false
   },
   "outputs": [
    {
     "name": "stdout",
     "output_type": "stream",
     "text": [
      "['AV', 'is', 'la', 'An', 'co', 'of', 'In']\n"
     ]
    }
   ],
   "source": [
    "result=re.findall(r'\\b\\w.','AV is largest Analytics community of India')\n",
    "print result"
   ]
  },
  {
   "cell_type": "markdown",
   "metadata": {},
   "source": [
    "# Problem 3: Return the domain type of given email-ids"
   ]
  },
  {
   "cell_type": "markdown",
   "metadata": {},
   "source": [
    "Extract all characters after “@”"
   ]
  },
  {
   "cell_type": "code",
   "execution_count": 21,
   "metadata": {
    "collapsed": false
   },
   "outputs": [
    {
     "name": "stdout",
     "output_type": "stream",
     "text": [
      "['@gmail', '@test', '@analyticsvidhya', '@rest']\n"
     ]
    }
   ],
   "source": [
    "result=re.findall(r'@\\w+','abc.test@gmail.com, xyz@test.in, test.first@analyticsvidhya.com, first.test@rest.biz')\n",
    "print result"
   ]
  },
  {
   "cell_type": "markdown",
   "metadata": {},
   "source": [
    "Above, you can see that “.com”, “.in” part is not extracted. To add it, we will go with below code."
   ]
  },
  {
   "cell_type": "code",
   "execution_count": 22,
   "metadata": {
    "collapsed": false
   },
   "outputs": [
    {
     "name": "stdout",
     "output_type": "stream",
     "text": [
      "['@gmail.com', '@test.in', '@analyticsvidhya.com', '@rest.biz']\n"
     ]
    }
   ],
   "source": [
    "result=re.findall(r'@\\w+.\\w+','abc.test@gmail.com, xyz@test.in, test.first@analyticsvidhya.com, first.test@rest.biz')\n",
    "print result"
   ]
  },
  {
   "cell_type": "markdown",
   "metadata": {},
   "source": [
    " Extract only domain name using “( )”"
   ]
  },
  {
   "cell_type": "code",
   "execution_count": null,
   "metadata": {
    "collapsed": true
   },
   "outputs": [],
   "source": [
    "# result=re.findall(r'@\\w+.(\\w+)','abc.test@gmail.com, xyz@test.in, test.first@analyticsvidhya.com, first.test@rest.biz')\n",
    "print result"
   ]
  },
  {
   "cell_type": "markdown",
   "metadata": {},
   "source": [
    "# Problem 4: Return date from given string"
   ]
  },
  {
   "cell_type": "markdown",
   "metadata": {},
   "source": [
    "Here we will use “\\d” to extract digit."
   ]
  },
  {
   "cell_type": "code",
   "execution_count": 24,
   "metadata": {
    "collapsed": false
   },
   "outputs": [
    {
     "name": "stdout",
     "output_type": "stream",
     "text": [
      "['12-05-2007', '11-11-2011', '12-01-2009']\n"
     ]
    }
   ],
   "source": [
    "result=re.findall(r'\\d{2}-\\d{2}-\\d{4}','Amit 34-3456 12-05-2007, XYZ 56-4532 11-11-2011, ABC 67-8945 12-01-2009')\n",
    "print result"
   ]
  },
  {
   "cell_type": "markdown",
   "metadata": {},
   "source": [
    "If you want to extract only year again parenthesis “( )” will help you."
   ]
  },
  {
   "cell_type": "code",
   "execution_count": 26,
   "metadata": {
    "collapsed": false
   },
   "outputs": [
    {
     "name": "stdout",
     "output_type": "stream",
     "text": [
      "['2007', '2011', '2009']\n"
     ]
    }
   ],
   "source": [
    "result=re.findall(r'\\d{2}-\\d{2}-(\\d{4})','Amit 34-3456 12-05-2007, XYZ 56-4532 11-11-2011, ABC 67-8945 12-01-2009')\n",
    "print result"
   ]
  },
  {
   "cell_type": "markdown",
   "metadata": {},
   "source": [
    "# Problem 5: Return all words of a string those starts with vowel"
   ]
  },
  {
   "cell_type": "code",
   "execution_count": 27,
   "metadata": {
    "collapsed": false
   },
   "outputs": [
    {
     "name": "stdout",
     "output_type": "stream",
     "text": [
      "['AV', 'is', 'largest', 'Analytics', 'community', 'of', 'India']\n"
     ]
    }
   ],
   "source": [
    "result=re.findall(r'\\w+','AV is largest Analytics community of India')\n",
    "print result"
   ]
  },
  {
   "cell_type": "markdown",
   "metadata": {},
   "source": [
    "Return words starts with alphabets (using [])"
   ]
  },
  {
   "cell_type": "code",
   "execution_count": 28,
   "metadata": {
    "collapsed": false
   },
   "outputs": [
    {
     "name": "stdout",
     "output_type": "stream",
     "text": [
      "['AV', 'is', 'argest', 'Analytics', 'ommunity', 'of', 'India']\n"
     ]
    }
   ],
   "source": [
    "#[aeiouAEIOU]\\w+ - It will consider the words starting with one of the alphabets in the braces\n",
    "result=re.findall(r'[aeiouAEIOU]\\w+','AV is largest Analytics community of India')\n",
    "print result"
   ]
  },
  {
   "cell_type": "markdown",
   "metadata": {},
   "source": [
    "Above you can see that it has returned “argest” and “ommunity” from the mid of words. To drop these two, we need to use “\\b” for word boundary."
   ]
  },
  {
   "cell_type": "code",
   "execution_count": 29,
   "metadata": {
    "collapsed": false
   },
   "outputs": [
    {
     "name": "stdout",
     "output_type": "stream",
     "text": [
      "['AV', 'is', 'Analytics', 'of', 'India']\n"
     ]
    }
   ],
   "source": [
    "result=re.findall(r'\\b[aeiouAEIOU]\\w+','AV is largest Analytics community of India')\n",
    "print result"
   ]
  },
  {
   "cell_type": "markdown",
   "metadata": {},
   "source": [
    "In similar ways, we can extract words those starts with constant using “^” within square bracket."
   ]
  },
  {
   "cell_type": "code",
   "execution_count": 30,
   "metadata": {
    "collapsed": false
   },
   "outputs": [
    {
     "name": "stdout",
     "output_type": "stream",
     "text": [
      "[' is', ' largest', ' Analytics', ' community', ' of', ' India']\n"
     ]
    }
   ],
   "source": [
    "result=re.findall(r'\\b[^aeiouAEIOU]\\w+','AV is largest Analytics community of India')\n",
    "print result"
   ]
  },
  {
   "cell_type": "markdown",
   "metadata": {},
   "source": [
    "Above you can see that it has returned words starting with space. To drop it from output, include space in square bracket[]."
   ]
  },
  {
   "cell_type": "code",
   "execution_count": 31,
   "metadata": {
    "collapsed": false
   },
   "outputs": [
    {
     "name": "stdout",
     "output_type": "stream",
     "text": [
      "['largest', 'community']\n"
     ]
    }
   ],
   "source": [
    "result=re.findall(r'\\b[^aeiouAEIOU ]\\w+','AV is largest Analytics community of India')\n",
    "print result"
   ]
  },
  {
   "cell_type": "markdown",
   "metadata": {},
   "source": [
    "Problem 6: Validate a phone number (phone number must be of 10 digits and starts with 8 or 9) "
   ]
  },
  {
   "cell_type": "markdown",
   "metadata": {},
   "source": [
    "We have a list phone numbers in list “li” and here we will validate phone numbers using regular"
   ]
  },
  {
   "cell_type": "code",
   "execution_count": 33,
   "metadata": {
    "collapsed": false
   },
   "outputs": [
    {
     "name": "stdout",
     "output_type": "stream",
     "text": [
      "Yes\n",
      "No\n",
      "No\n"
     ]
    }
   ],
   "source": [
    "import re\n",
    "li=['9999999999','999999-999','99999x9999']\n",
    "\n",
    "for val in li:\n",
    "    if re.match(r'[8-9]{1}[0-9]{9}',val) and len(val)==10:\n",
    "        print 'Yes'\n",
    "    else:\n",
    "        print 'No'"
   ]
  },
  {
   "cell_type": "markdown",
   "metadata": {},
   "source": [
    "# Problem 8: Retrieve Information from HTML file"
   ]
  },
  {
   "cell_type": "markdown",
   "metadata": {},
   "source": [
    "I want to extract information from a HTML file (see below sample data). Here we need to extract information available between <td> and </td> except the first numerical index. I have assumed here that below html code is stored in a string str."
   ]
  },
  {
   "cell_type": "raw",
   "metadata": {},
   "source": [
    "<tr align=\"center\"><td>1</td> <td>Noah</td> <td>Emma</td></tr>\n",
    "<tr align=\"center\"><td>2</td> <td>Liam</td> <td>Olivia</td></tr>\n",
    "<tr align=\"center\"><td>3</td> <td>Mason</td> <td>Sophia</td></tr>\n",
    "<tr align=\"center\"><td>4</td> <td>Jacob</td> <td>Isabella</td></tr>\n",
    "<tr align=\"center\"><td>5</td> <td>William</td> <td>Ava</td></tr>\n",
    "<tr align=\"center\"><td>6</td> <td>Ethan</td> <td>Mia</td></tr>\n",
    "<tr align=\"center\"><td>7</td> <td HTML>Michael</td> <td>Emily</td></tr>"
   ]
  },
  {
   "cell_type": "code",
   "execution_count": 34,
   "metadata": {
    "collapsed": true
   },
   "outputs": [],
   "source": [
    "str ='''<tr align=\"center\"><td>1</td> <td>Noah</td> <td>Emma</td></tr>\n",
    "<tr align=\"center\"><td>2</td> <td>Liam</td> <td>Olivia</td></tr>\n",
    "<tr align=\"center\"><td>3</td> <td>Mason</td> <td>Sophia</td></tr>\n",
    "<tr align=\"center\"><td>4</td> <td>Jacob</td> <td>Isabella</td></tr>\n",
    "<tr align=\"center\"><td>5</td> <td>William</td> <td>Ava</td></tr>\n",
    "<tr align=\"center\"><td>6</td> <td>Ethan</td> <td>Mia</td></tr>\n",
    "<tr align=\"center\"><td>7</td> <td HTML>Michael</td> <td>Emily</td></tr>'''"
   ]
  },
  {
   "cell_type": "code",
   "execution_count": 36,
   "metadata": {
    "collapsed": false
   },
   "outputs": [
    {
     "name": "stdout",
     "output_type": "stream",
     "text": [
      "[('Noah', 'Emma'), ('Liam', 'Olivia'), ('Mason', 'Sophia'), ('Jacob', 'Isabella'), ('William', 'Ava'), ('Ethan', 'Mia')]\n"
     ]
    }
   ],
   "source": [
    "result=re.findall(r'<td>\\w+</td>\\s<td>(\\w+)</td>\\s<td>(\\w+)</td>',str)\n",
    "print(result)"
   ]
  },
  {
   "cell_type": "code",
   "execution_count": null,
   "metadata": {
    "collapsed": true
   },
   "outputs": [],
   "source": []
  }
 ],
 "metadata": {
  "kernelspec": {
   "display_name": "Python 2",
   "language": "python",
   "name": "python2"
  },
  "language_info": {
   "codemirror_mode": {
    "name": "ipython",
    "version": 2
   },
   "file_extension": ".py",
   "mimetype": "text/x-python",
   "name": "python",
   "nbconvert_exporter": "python",
   "pygments_lexer": "ipython2",
   "version": "2.7.11"
  }
 },
 "nbformat": 4,
 "nbformat_minor": 0
}
